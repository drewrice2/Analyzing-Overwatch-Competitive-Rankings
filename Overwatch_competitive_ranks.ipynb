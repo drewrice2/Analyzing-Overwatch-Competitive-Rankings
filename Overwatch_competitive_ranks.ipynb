{
 "cells": [
  {
   "cell_type": "code",
   "execution_count": 69,
   "metadata": {
    "collapsed": true
   },
   "outputs": [],
   "source": [
    "import numpy as np\n",
    "import pandas as pd\n",
    "import seaborn as sns\n",
    "import matplotlib.pyplot as plt\n",
    "%matplotlib inline"
   ]
  },
  {
   "cell_type": "code",
   "execution_count": 70,
   "metadata": {
    "collapsed": false
   },
   "outputs": [
    {
     "data": {
      "text/html": [
       "<div>\n",
       "<table border=\"1\" class=\"dataframe\">\n",
       "  <thead>\n",
       "    <tr style=\"text-align: right;\">\n",
       "      <th></th>\n",
       "      <th>Timestamp</th>\n",
       "      <th>What rank (number between 1 and 100) did you receive after placement matches?</th>\n",
       "    </tr>\n",
       "  </thead>\n",
       "  <tbody>\n",
       "    <tr>\n",
       "      <th>1931</th>\n",
       "      <td>2016/06/29 4:23:19 PM EST</td>\n",
       "      <td>60</td>\n",
       "    </tr>\n",
       "    <tr>\n",
       "      <th>1932</th>\n",
       "      <td>2016/06/29 4:23:20 PM EST</td>\n",
       "      <td>48</td>\n",
       "    </tr>\n",
       "    <tr>\n",
       "      <th>1933</th>\n",
       "      <td>2016/06/29 4:23:24 PM EST</td>\n",
       "      <td>48</td>\n",
       "    </tr>\n",
       "    <tr>\n",
       "      <th>1934</th>\n",
       "      <td>2016/06/29 4:23:28 PM EST</td>\n",
       "      <td>68</td>\n",
       "    </tr>\n",
       "    <tr>\n",
       "      <th>1935</th>\n",
       "      <td>2016/06/29 4:23:32 PM EST</td>\n",
       "      <td>60</td>\n",
       "    </tr>\n",
       "  </tbody>\n",
       "</table>\n",
       "</div>"
      ],
      "text/plain": [
       "                      Timestamp  \\\n",
       "1931  2016/06/29 4:23:19 PM EST   \n",
       "1932  2016/06/29 4:23:20 PM EST   \n",
       "1933  2016/06/29 4:23:24 PM EST   \n",
       "1934  2016/06/29 4:23:28 PM EST   \n",
       "1935  2016/06/29 4:23:32 PM EST   \n",
       "\n",
       "     What rank (number between 1 and 100) did you receive after placement matches?   \n",
       "1931                                                 60                              \n",
       "1932                                                 48                              \n",
       "1933                                                 48                              \n",
       "1934                                                 68                              \n",
       "1935                                                 60                              "
      ]
     },
     "execution_count": 70,
     "metadata": {},
     "output_type": "execute_result"
    }
   ],
   "source": [
    "df = pd.read_csv('Overwatch Competitive Ranks.csv')\n",
    "df.tail()"
   ]
  },
  {
   "cell_type": "code",
   "execution_count": 71,
   "metadata": {
    "collapsed": false,
    "scrolled": true
   },
   "outputs": [],
   "source": [
    "# strip any string entries out of the dataframe, convert strings to NaN\n",
    "# drop NaN values\n",
    "df = pd.to_numeric(df['What rank (number between 1 and 100) did you receive after placement matches? '], errors='coerce')\n",
    "df.dropna(inplace=True)"
   ]
  },
  {
   "cell_type": "code",
   "execution_count": 72,
   "metadata": {
    "collapsed": false
   },
   "outputs": [],
   "source": [
    "# convert back to DataFrame object\n",
    "# drop any values outside of range 1-100\n",
    "df2 = pd.DataFrame(df)\n",
    "df2 = df2.rename(columns={'What rank (number between 1 and 100) did you receive after placement matches? ': 'rank'})\n",
    "df2 = df2.drop(df2[(df2['rank'] < 10.0) | (df2['rank'] > 85.0)].index)"
   ]
  },
  {
   "cell_type": "code",
   "execution_count": 73,
   "metadata": {
    "collapsed": false
   },
   "outputs": [
    {
     "data": {
      "text/html": [
       "<div>\n",
       "<table border=\"1\" class=\"dataframe\">\n",
       "  <thead>\n",
       "    <tr style=\"text-align: right;\">\n",
       "      <th></th>\n",
       "      <th>rank</th>\n",
       "    </tr>\n",
       "  </thead>\n",
       "  <tbody>\n",
       "    <tr>\n",
       "      <th>count</th>\n",
       "      <td>1843.000000</td>\n",
       "    </tr>\n",
       "    <tr>\n",
       "      <th>mean</th>\n",
       "      <td>51.959305</td>\n",
       "    </tr>\n",
       "    <tr>\n",
       "      <th>std</th>\n",
       "      <td>7.020288</td>\n",
       "    </tr>\n",
       "    <tr>\n",
       "      <th>min</th>\n",
       "      <td>10.000000</td>\n",
       "    </tr>\n",
       "    <tr>\n",
       "      <th>25%</th>\n",
       "      <td>48.000000</td>\n",
       "    </tr>\n",
       "    <tr>\n",
       "      <th>50%</th>\n",
       "      <td>52.000000</td>\n",
       "    </tr>\n",
       "    <tr>\n",
       "      <th>75%</th>\n",
       "      <td>56.000000</td>\n",
       "    </tr>\n",
       "    <tr>\n",
       "      <th>max</th>\n",
       "      <td>80.000000</td>\n",
       "    </tr>\n",
       "  </tbody>\n",
       "</table>\n",
       "</div>"
      ],
      "text/plain": [
       "              rank\n",
       "count  1843.000000\n",
       "mean     51.959305\n",
       "std       7.020288\n",
       "min      10.000000\n",
       "25%      48.000000\n",
       "50%      52.000000\n",
       "75%      56.000000\n",
       "max      80.000000"
      ]
     },
     "execution_count": 73,
     "metadata": {},
     "output_type": "execute_result"
    }
   ],
   "source": [
    "# cleaned dataset information\n",
    "df2.describe()"
   ]
  },
  {
   "cell_type": "code",
   "execution_count": 74,
   "metadata": {
    "collapsed": false,
    "scrolled": false
   },
   "outputs": [
    {
     "data": {
      "image/png": "[encoded data removed]",
      "text/plain": [
       "<matplotlib.figure.Figure at 0x11d20bb50>"
      ]
     },
     "metadata": {},
     "output_type": "display_data"
    }
   ],
   "source": [
    "# plot the distribution of ranks\n",
    "# seaborn for style!\n",
    "\n",
    "sns.set_style(\"darkgrid\")\n",
    "\n",
    "fig, ax = plt.subplots(figsize=(18,6))\n",
    "\n",
    "ax.hist(df2['rank'],bins=50)\n",
    "\n",
    "start, end = 0,100\n",
    "ax.xaxis.set_ticks(np.arange(start, end, 5))\n",
    "ax.set_xlim([start,end])\n",
    "ax.set_title('~ Rankings Distribution ~')\n",
    "ax.set_xlabel('rank')\n",
    "ax.set_ylabel('player density')\n",
    "\n",
    "fig.show()"
   ]
  }
 ],
 "metadata": {
  "kernelspec": {
   "display_name": "Python 2",
   "language": "python",
   "name": "python2"
  },
  "language_info": {
   "codemirror_mode": {
    "name": "ipython",
    "version": 2
   },
   "file_extension": ".py",
   "mimetype": "text/x-python",
   "name": "python",
   "nbconvert_exporter": "python",
   "pygments_lexer": "ipython2",
   "version": "2.7.11"
  }
 },
 "nbformat": 4,
 "nbformat_minor": 0
}
